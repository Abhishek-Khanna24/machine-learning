{
  "nbformat": 4,
  "nbformat_minor": 0,
  "metadata": {
    "colab": {
      "name": "ml.ipynb",
      "provenance": [],
      "include_colab_link": true
    },
    "kernelspec": {
      "name": "python3",
      "display_name": "Python 3"
    }
  },
  "cells": [
    {
      "cell_type": "markdown",
      "metadata": {
        "id": "view-in-github",
        "colab_type": "text"
      },
      "source": [
        "<a href=\"https://colab.research.google.com/github/Abhishek-Khanna24/machine-learning/blob/main/ml.ipynb\" target=\"_parent\"><img src=\"https://colab.research.google.com/assets/colab-badge.svg\" alt=\"Open In Colab\"/></a>"
      ]
    },
    {
      "cell_type": "code",
      "metadata": {
        "id": "eNm-HOGXpQJT"
      },
      "source": [
        "import pandas as pd\n",
        "import numpy as np\n",
        "import matplotlib.pyplot as plt\n",
        "from pandas import DataFrame\n",
        "plt.style.use('fivethirtyeight')"
      ],
      "execution_count": 39,
      "outputs": []
    },
    {
      "cell_type": "code",
      "metadata": {
        "colab": {
          "base_uri": "https://localhost:8080/",
          "height": 235
        },
        "id": "7pjaZNMtpa-8",
        "outputId": "46e679c7-a18a-4efd-8d16-9602fc771ba9"
      },
      "source": [
        "#Load Data\n",
        "pd.set_option('display.max_rows', 500)\n",
        "pd.set_option('display.max_columns', 500)\n",
        "pd.set_option('display.width', 1000)\n",
        "from pandas_datareader import data\n",
        "start_date = '2019-01-01'\n",
        "#end_date = '2019-10-01'\n",
        "end_date = '2020-01-01'\n",
        "SRC_DATA_FILENAME='msft_data_large.csv'\n",
        "msft_data = data.DataReader('T', 'yahoo', start_date, end_date)\n",
        "#msft_data.to_pickle(SRC_DATA_FILENAME)\n",
        "msft_data.to_csv(SRC_DATA_FILENAME)\n",
        "msft_data.to_pickle('seb.pkl')\n",
        "msft_data.head()"
      ],
      "execution_count": 40,
      "outputs": [
        {
          "output_type": "execute_result",
          "data": {
            "text/html": [
              "<div>\n",
              "<style scoped>\n",
              "    .dataframe tbody tr th:only-of-type {\n",
              "        vertical-align: middle;\n",
              "    }\n",
              "\n",
              "    .dataframe tbody tr th {\n",
              "        vertical-align: top;\n",
              "    }\n",
              "\n",
              "    .dataframe thead th {\n",
              "        text-align: right;\n",
              "    }\n",
              "</style>\n",
              "<table border=\"1\" class=\"dataframe\">\n",
              "  <thead>\n",
              "    <tr style=\"text-align: right;\">\n",
              "      <th></th>\n",
              "      <th>High</th>\n",
              "      <th>Low</th>\n",
              "      <th>Open</th>\n",
              "      <th>Close</th>\n",
              "      <th>Volume</th>\n",
              "      <th>Adj Close</th>\n",
              "    </tr>\n",
              "    <tr>\n",
              "      <th>Date</th>\n",
              "      <th></th>\n",
              "      <th></th>\n",
              "      <th></th>\n",
              "      <th></th>\n",
              "      <th></th>\n",
              "      <th></th>\n",
              "    </tr>\n",
              "  </thead>\n",
              "  <tbody>\n",
              "    <tr>\n",
              "      <th>2019-01-02</th>\n",
              "      <td>29.590000</td>\n",
              "      <td>28.299999</td>\n",
              "      <td>28.500000</td>\n",
              "      <td>29.540001</td>\n",
              "      <td>39294000.0</td>\n",
              "      <td>26.012018</td>\n",
              "    </tr>\n",
              "    <tr>\n",
              "      <th>2019-01-03</th>\n",
              "      <td>29.809999</td>\n",
              "      <td>29.209999</td>\n",
              "      <td>29.520000</td>\n",
              "      <td>29.580000</td>\n",
              "      <td>37603600.0</td>\n",
              "      <td>26.047237</td>\n",
              "    </tr>\n",
              "    <tr>\n",
              "      <th>2019-01-04</th>\n",
              "      <td>30.379999</td>\n",
              "      <td>29.889999</td>\n",
              "      <td>29.959999</td>\n",
              "      <td>30.340000</td>\n",
              "      <td>42072400.0</td>\n",
              "      <td>26.716471</td>\n",
              "    </tr>\n",
              "    <tr>\n",
              "      <th>2019-01-07</th>\n",
              "      <td>31.270000</td>\n",
              "      <td>30.420000</td>\n",
              "      <td>30.730000</td>\n",
              "      <td>30.889999</td>\n",
              "      <td>41070900.0</td>\n",
              "      <td>27.200781</td>\n",
              "    </tr>\n",
              "    <tr>\n",
              "      <th>2019-01-08</th>\n",
              "      <td>31.379999</td>\n",
              "      <td>31.030001</td>\n",
              "      <td>31.309999</td>\n",
              "      <td>31.280001</td>\n",
              "      <td>43567300.0</td>\n",
              "      <td>27.544209</td>\n",
              "    </tr>\n",
              "  </tbody>\n",
              "</table>\n",
              "</div>"
            ],
            "text/plain": [
              "                 High        Low       Open      Close      Volume  Adj Close\n",
              "Date                                                                         \n",
              "2019-01-02  29.590000  28.299999  28.500000  29.540001  39294000.0  26.012018\n",
              "2019-01-03  29.809999  29.209999  29.520000  29.580000  37603600.0  26.047237\n",
              "2019-01-04  30.379999  29.889999  29.959999  30.340000  42072400.0  26.716471\n",
              "2019-01-07  31.270000  30.420000  30.730000  30.889999  41070900.0  27.200781\n",
              "2019-01-08  31.379999  31.030001  31.309999  31.280001  43567300.0  27.544209"
            ]
          },
          "metadata": {
            "tags": []
          },
          "execution_count": 40
        }
      ]
    },
    {
      "cell_type": "code",
      "metadata": {
        "id": "6RaP1hWJpla_"
      },
      "source": [
        "msft_data_test = msft_data.iloc[:189,:]"
      ],
      "execution_count": 41,
      "outputs": []
    },
    {
      "cell_type": "code",
      "metadata": {
        "id": "iMZgx9LTp5x3"
      },
      "source": [
        "#Calculating SMA, Upper and Lower Bolinger Band"
      ],
      "execution_count": 42,
      "outputs": []
    },
    {
      "cell_type": "code",
      "metadata": {
        "colab": {
          "base_uri": "https://localhost:8080/",
          "height": 432
        },
        "id": "VL3fjNcFqBbS",
        "outputId": "f1061301-ef48-4504-8845-b138e64dc627"
      },
      "source": [
        "period_1 = 5\n",
        "msft_data['SMA_5'] = msft_data['Close'].rolling(window=period_1).mean()\n",
        "msft_data['STD_5'] = msft_data['Close'].rolling(window=period_1).std()\n",
        "msft_data['Upper_5'] = msft_data['SMA_5'] + 1.25*(msft_data['STD_5'])\n",
        "msft_data['Lower_5'] = msft_data['SMA_5'] - 1.25*(msft_data['STD_5'])\n",
        "period_2 = 10\n",
        "msft_data['SMA_10'] = msft_data['Close'].rolling(window=period_2).mean()\n",
        "\n",
        "column_list = ['Close', 'SMA_5','Upper_5','Lower_5','SMA_10']\n",
        "msft_data[column_list].plot(figsize=(12.2,6.4))\n",
        "plt.title('Bollinger Band for AT&T')\n",
        "plt.ylabel('USD Price')\n",
        "plt.show()\n"
      ],
      "execution_count": 43,
      "outputs": [
        {
          "output_type": "display_data",
          "data": {
            "image/png": "[encoded data removed]",
            "text/plain": [
              "<Figure size 878.4x460.8 with 1 Axes>"
            ]
          },
          "metadata": {
            "tags": []
          }
        }
      ]
    },
    {
      "cell_type": "code",
      "metadata": {
        "colab": {
          "base_uri": "https://localhost:8080/",
          "height": 465
        },
        "id": "engJ2P-9qNSo",
        "outputId": "45661bee-1f21-45c9-814d-6eb6290f709f"
      },
      "source": [
        "fig = plt.figure(figsize=(12.2,6.4))\n",
        "ax = fig.add_subplot(1,1,1)\n",
        "x_axis = msft_data.index\n",
        "ax.fill_between(x_axis,msft_data['Upper_5'],msft_data['Lower_5'], color = 'grey')\n",
        "ax.plot(x_axis, msft_data['Close'], color = 'gold', lw=3, label = 'Closing Price')\n",
        "ax.plot(x_axis, msft_data['SMA_5'], color = 'blue', lw=3, label = 'SMA_5')\n",
        "ax.plot(x_axis, msft_data['SMA_10'], color = 'red', lw=3, label = 'SMA_10')\n",
        "column_list_2 = ['Close', 'SMA_5','SMA_10']\n",
        "ax.set_title('Bollinger Band + SMA_5/10')\n",
        "ax.set_xlabel('Date')\n",
        "ax.set_ylabel('USD Price')\n",
        "ax.legend()\n",
        "plt.show()\n"
      ],
      "execution_count": 44,
      "outputs": [
        {
          "output_type": "display_data",
          "data": {
            "image/png": "[encoded data removed]",
            "text/plain": [
              "<Figure size 878.4x460.8 with 1 Axes>"
            ]
          },
          "metadata": {
            "tags": []
          }
        }
      ]
    },
    {
      "cell_type": "code",
      "metadata": {
        "id": "VTgP5ne0sCgc"
      },
      "source": [
        "new_df = msft_data[period_2 -1:]"
      ],
      "execution_count": 45,
      "outputs": []
    },
    {
      "cell_type": "code",
      "metadata": {
        "colab": {
          "base_uri": "https://localhost:8080/",
          "height": 357
        },
        "id": "IhSejHwjvTmB",
        "outputId": "86861da9-f608-409b-c77d-7f56fe628287"
      },
      "source": [
        "new_df.head()"
      ],
      "execution_count": 46,
      "outputs": [
        {
          "output_type": "execute_result",
          "data": {
            "text/html": [
              "<div>\n",
              "<style scoped>\n",
              "    .dataframe tbody tr th:only-of-type {\n",
              "        vertical-align: middle;\n",
              "    }\n",
              "\n",
              "    .dataframe tbody tr th {\n",
              "        vertical-align: top;\n",
              "    }\n",
              "\n",
              "    .dataframe thead th {\n",
              "        text-align: right;\n",
              "    }\n",
              "</style>\n",
              "<table border=\"1\" class=\"dataframe\">\n",
              "  <thead>\n",
              "    <tr style=\"text-align: right;\">\n",
              "      <th></th>\n",
              "      <th>High</th>\n",
              "      <th>Low</th>\n",
              "      <th>Open</th>\n",
              "      <th>Close</th>\n",
              "      <th>Volume</th>\n",
              "      <th>Adj Close</th>\n",
              "      <th>SMA_5</th>\n",
              "      <th>STD_5</th>\n",
              "      <th>Upper_5</th>\n",
              "      <th>Lower_5</th>\n",
              "      <th>SMA_10</th>\n",
              "    </tr>\n",
              "    <tr>\n",
              "      <th>Date</th>\n",
              "      <th></th>\n",
              "      <th></th>\n",
              "      <th></th>\n",
              "      <th></th>\n",
              "      <th></th>\n",
              "      <th></th>\n",
              "      <th></th>\n",
              "      <th></th>\n",
              "      <th></th>\n",
              "      <th></th>\n",
              "      <th></th>\n",
              "    </tr>\n",
              "  </thead>\n",
              "  <tbody>\n",
              "    <tr>\n",
              "      <th>2019-01-15</th>\n",
              "      <td>30.600000</td>\n",
              "      <td>30.23</td>\n",
              "      <td>30.520000</td>\n",
              "      <td>30.600000</td>\n",
              "      <td>26735400.0</td>\n",
              "      <td>27.392029</td>\n",
              "      <td>30.518</td>\n",
              "      <td>0.287089</td>\n",
              "      <td>30.876862</td>\n",
              "      <td>30.159139</td>\n",
              "      <td>30.422</td>\n",
              "    </tr>\n",
              "    <tr>\n",
              "      <th>2019-01-16</th>\n",
              "      <td>30.750000</td>\n",
              "      <td>30.35</td>\n",
              "      <td>30.530001</td>\n",
              "      <td>30.559999</td>\n",
              "      <td>24494400.0</td>\n",
              "      <td>27.356222</td>\n",
              "      <td>30.610</td>\n",
              "      <td>0.169116</td>\n",
              "      <td>30.821395</td>\n",
              "      <td>30.398605</td>\n",
              "      <td>30.524</td>\n",
              "    </tr>\n",
              "    <tr>\n",
              "      <th>2019-01-17</th>\n",
              "      <td>30.750000</td>\n",
              "      <td>30.41</td>\n",
              "      <td>30.549999</td>\n",
              "      <td>30.639999</td>\n",
              "      <td>26267000.0</td>\n",
              "      <td>27.427834</td>\n",
              "      <td>30.658</td>\n",
              "      <td>0.122148</td>\n",
              "      <td>30.810685</td>\n",
              "      <td>30.505315</td>\n",
              "      <td>30.630</td>\n",
              "    </tr>\n",
              "    <tr>\n",
              "      <th>2019-01-18</th>\n",
              "      <td>31.030001</td>\n",
              "      <td>30.52</td>\n",
              "      <td>30.820000</td>\n",
              "      <td>30.959999</td>\n",
              "      <td>43249100.0</td>\n",
              "      <td>27.714287</td>\n",
              "      <td>30.676</td>\n",
              "      <td>0.161493</td>\n",
              "      <td>30.877866</td>\n",
              "      <td>30.474134</td>\n",
              "      <td>30.692</td>\n",
              "    </tr>\n",
              "    <tr>\n",
              "      <th>2019-01-22</th>\n",
              "      <td>30.990000</td>\n",
              "      <td>30.42</td>\n",
              "      <td>30.920000</td>\n",
              "      <td>30.580000</td>\n",
              "      <td>37658500.0</td>\n",
              "      <td>27.374126</td>\n",
              "      <td>30.668</td>\n",
              "      <td>0.165891</td>\n",
              "      <td>30.875364</td>\n",
              "      <td>30.460636</td>\n",
              "      <td>30.661</td>\n",
              "    </tr>\n",
              "  </tbody>\n",
              "</table>\n",
              "</div>"
            ],
            "text/plain": [
              "                 High    Low       Open      Close      Volume  Adj Close   SMA_5     STD_5    Upper_5    Lower_5  SMA_10\n",
              "Date                                                                                                                     \n",
              "2019-01-15  30.600000  30.23  30.520000  30.600000  26735400.0  27.392029  30.518  0.287089  30.876862  30.159139  30.422\n",
              "2019-01-16  30.750000  30.35  30.530001  30.559999  24494400.0  27.356222  30.610  0.169116  30.821395  30.398605  30.524\n",
              "2019-01-17  30.750000  30.41  30.549999  30.639999  26267000.0  27.427834  30.658  0.122148  30.810685  30.505315  30.630\n",
              "2019-01-18  31.030001  30.52  30.820000  30.959999  43249100.0  27.714287  30.676  0.161493  30.877866  30.474134  30.692\n",
              "2019-01-22  30.990000  30.42  30.920000  30.580000  37658500.0  27.374126  30.668  0.165891  30.875364  30.460636  30.661"
            ]
          },
          "metadata": {
            "tags": []
          },
          "execution_count": 46
        }
      ]
    },
    {
      "cell_type": "code",
      "metadata": {
        "colab": {
          "base_uri": "https://localhost:8080/"
        },
        "id": "kN7BSm2EvY1T",
        "outputId": "b2427217-1e05-448c-9c6b-9711c6bbfa3a"
      },
      "source": [
        "cond_1 = new_df['SMA_5'] > new_df['SMA_10']\n",
        "new_df['Signal_1'] = np.where(cond_1,1,0)\n",
        "\n"
      ],
      "execution_count": 47,
      "outputs": [
        {
          "output_type": "stream",
          "text": [
            "/usr/local/lib/python3.6/dist-packages/ipykernel_launcher.py:2: SettingWithCopyWarning: \n",
            "A value is trying to be set on a copy of a slice from a DataFrame.\n",
            "Try using .loc[row_indexer,col_indexer] = value instead\n",
            "\n",
            "See the caveats in the documentation: https://pandas.pydata.org/pandas-docs/stable/user_guide/indexing.html#returning-a-view-versus-a-copy\n",
            "  \n"
          ],
          "name": "stderr"
        }
      ]
    },
    {
      "cell_type": "code",
      "metadata": {
        "colab": {
          "base_uri": "https://localhost:8080/"
        },
        "id": "-3dS107gzH1v",
        "outputId": "65dd42b2-ba6d-44df-ab8c-991dbd4a1ae9"
      },
      "source": [
        "new_df['Signal_2'] = np.nan\n",
        "\n",
        "for index, row in new_df.iterrows():\n",
        "\n",
        "  if row['Close']> row['Upper_5']:\n",
        "    new_df.loc[index, 'Signal_2'] = 0\n",
        "  elif row['Close'] < row['Lower_5']:\n",
        "    new_df.loc[index, 'Signal_2'] = 1\n",
        "  else:\n",
        "    new_df.loc[index, 'Signal_2'] = 0.5\n"
      ],
      "execution_count": 48,
      "outputs": [
        {
          "output_type": "stream",
          "text": [
            "/usr/local/lib/python3.6/dist-packages/ipykernel_launcher.py:1: SettingWithCopyWarning: \n",
            "A value is trying to be set on a copy of a slice from a DataFrame.\n",
            "Try using .loc[row_indexer,col_indexer] = value instead\n",
            "\n",
            "See the caveats in the documentation: https://pandas.pydata.org/pandas-docs/stable/user_guide/indexing.html#returning-a-view-versus-a-copy\n",
            "  \"\"\"Entry point for launching an IPython kernel.\n",
            "/usr/local/lib/python3.6/dist-packages/pandas/core/indexing.py:1763: SettingWithCopyWarning: \n",
            "A value is trying to be set on a copy of a slice from a DataFrame.\n",
            "Try using .loc[row_indexer,col_indexer] = value instead\n",
            "\n",
            "See the caveats in the documentation: https://pandas.pydata.org/pandas-docs/stable/user_guide/indexing.html#returning-a-view-versus-a-copy\n",
            "  isetter(loc, value)\n"
          ],
          "name": "stderr"
        }
      ]
    },
    {
      "cell_type": "code",
      "metadata": {
        "colab": {
          "base_uri": "https://localhost:8080/"
        },
        "id": "F2vxyQ-120k0",
        "outputId": "a1021389-66b4-4a17-a6e4-95e6c216fe89"
      },
      "source": [
        "current_shares = 0\n",
        "our_values1 = []\n",
        "current_value = 1000\n",
        "can_buy = 1 \n",
        "#0 means cannot buy, 1 means can buy\n",
        "can_sell = 0\n",
        "#0 means cannot sell, 1 means can sell\n",
        "\n",
        "for index,row in new_df.iloc[:189,:].iterrows():\n",
        "\n",
        "  if can_buy == 0:\n",
        "    print(\"Held\")\n",
        "    print(current_value)\n",
        "    current_value = row['Close']*current_shares\n",
        "    our_values1.append(current_value)\n",
        "    if can_sell ==0:\n",
        "      print(\"Did nothing\")\n",
        "\n",
        "  if row['Signal_1'] == 1 and can_buy==1:\n",
        "    can_buy = 0\n",
        "    can_sell = 1\n",
        "    current_shares = current_value/row['Open']\n",
        "    print(\"Bought Shares\")\n",
        "\n",
        "  if row['Signal_1'] == 0 and can_sell ==1:\n",
        "    can_sell = 0\n",
        "    can_buy = 1\n",
        "    current_value = row['Close']*current_shares\n",
        "    print(\"Sold Shares\")\n",
        "    print(current_value)\n",
        "    our_values1.append(current_value)"
      ],
      "execution_count": 49,
      "outputs": [
        {
          "output_type": "stream",
          "text": [
            "Bought Shares\n",
            "Held\n",
            "1000\n",
            "Held\n",
            "1001.3105834724367\n",
            "Held\n",
            "1003.93181291235\n",
            "Sold Shares\n",
            "1014.4167306720028\n",
            "Bought Shares\n",
            "Held\n",
            "1014.4167306720028\n",
            "Held\n",
            "1013.4324745791904\n",
            "Held\n",
            "1003.9182493188769\n",
            "Held\n",
            "1005.8866989286169\n",
            "Held\n",
            "1006.2147842928875\n",
            "Held\n",
            "1007.1990403857\n",
            "Sold Shares\n",
            "963.5646881518426\n",
            "Bought Shares\n",
            "Held\n",
            "963.5646881518426\n",
            "Held\n",
            "988.5459472107264\n",
            "Held\n",
            "993.7368630058656\n",
            "Held\n",
            "1000.8744186346303\n",
            "Held\n",
            "1000.2255386900885\n",
            "Held\n",
            "1010.607370280367\n",
            "Held\n",
            "1009.9584903358253\n",
            "Held\n",
            "1012.8783882056658\n",
            "Held\n",
            "1007.6874724105265\n",
            "Held\n",
            "1009.6341122441519\n",
            "Held\n",
            "999.9010987178176\n",
            "Sold Shares\n",
            "972.6487598530376\n",
            "Bought Shares\n",
            "Held\n",
            "972.6487598530376\n",
            "Held\n",
            "985.176250410602\n",
            "Held\n",
            "989.3520601739531\n",
            "Held\n",
            "985.4974759720153\n",
            "Held\n",
            "980.0367639630109\n",
            "Held\n",
            "997.7037409681664\n",
            "Held\n",
            "998.0249665295797\n",
            "Held\n",
            "988.3884447572242\n",
            "Held\n",
            "1008.3039394247619\n",
            "Held\n",
            "1008.6251649861753\n",
            "Held\n",
            "996.0976744286108\n",
            "Held\n",
            "1007.3403240080331\n",
            "Held\n",
            "1026.292203258842\n",
            "Held\n",
            "1016.0131690961485\n",
            "Held\n",
            "1023.7224600350464\n",
            "Held\n",
            "1027.2558186755707\n",
            "Held\n",
            "1039.1408581103085\n",
            "Held\n",
            "1040.4257603559618\n",
            "Held\n",
            "1019.8678145655974\n",
            "Held\n",
            "1024.0436243289485\n",
            "Held\n",
            "1034.322658491642\n",
            "Held\n",
            "1034.322658491642\n",
            "Sold Shares\n",
            "1028.5407209212242\n",
            "Bought Shares\n",
            "Held\n",
            "1028.5407209212242\n",
            "Held\n",
            "1023.0970707015248\n",
            "Sold Shares\n",
            "1025.6587525244609\n",
            "Bought Shares\n",
            "Held\n",
            "1025.6587525244609\n",
            "Sold Shares\n",
            "985.0290884752086\n",
            "Bought Shares\n",
            "Held\n",
            "985.0290884752086\n",
            "Held\n",
            "1003.4349125510086\n",
            "Held\n",
            "1009.1470147581311\n",
            "Held\n",
            "1021.5233269991246\n",
            "Held\n",
            "1028.5048861325274\n",
            "Held\n",
            "1024.379408366762\n",
            "Held\n",
            "1019.9366420296159\n",
            "Held\n",
            "1024.0621197953815\n",
            "Held\n",
            "1013.2724925238969\n",
            "Held\n",
            "1012.6377943248326\n",
            "Sold Shares\n",
            "1011.0511093553238\n",
            "Bought Shares\n",
            "Held\n",
            "1011.0511093553238\n",
            "Held\n",
            "1003.5083639335559\n",
            "Held\n",
            "1009.1654829447702\n",
            "Held\n",
            "1011.3654603502673\n",
            "Held\n",
            "1014.8226019559845\n",
            "Held\n",
            "1016.708228366538\n",
            "Held\n",
            "1015.1368330611512\n",
            "Held\n",
            "1019.5367878721453\n",
            "Held\n",
            "1018.5939746668685\n",
            "Held\n",
            "1022.679698372696\n",
            "Held\n",
            "1019.8511388670887\n",
            "Held\n",
            "1023.9368625729162\n",
            "Held\n",
            "1022.9939294778625\n",
            "Held\n",
            "1022.3653473777524\n",
            "Held\n",
            "1036.5081449057882\n",
            "Held\n",
            "1053.1651509444878\n",
            "Held\n",
            "1050.650942433824\n",
            "Held\n",
            "1063.5365757616396\n",
            "Held\n",
            "1067.9365305726335\n",
            "Held\n",
            "1077.993604394842\n",
            "Held\n",
            "1076.422209089455\n",
            "Held\n",
            "1054.1080840395414\n",
            "Held\n",
            "1061.022247361199\n",
            "Held\n",
            "1051.593755639101\n",
            "Sold Shares\n",
            "1057.5652256452586\n",
            "Bought Shares\n",
            "Held\n",
            "1057.5652256452586\n",
            "Held\n",
            "1060.9797493126962\n",
            "Held\n",
            "1056.9443923955578\n",
            "Held\n",
            "1059.1172495635935\n",
            "Held\n",
            "1060.6692734819283\n",
            "Held\n",
            "1039.561535051272\n",
            "Held\n",
            "1054.150701977821\n",
            "Sold Shares\n",
            "1057.2548682263255\n",
            "Bought Shares\n",
            "Held\n",
            "1057.2548682263255\n",
            "Held\n",
            "1069.2168275738481\n",
            "Held\n",
            "1045.5995747836685\n",
            "Held\n",
            "1053.2675094426854\n",
            "Held\n",
            "1072.590737544359\n",
            "Held\n",
            "1085.1661457050106\n",
            "Held\n",
            "1072.8974034492248\n",
            "Held\n",
            "1078.4183257639888\n",
            "Held\n",
            "1085.4728116098765\n",
            "Held\n",
            "1067.9899299475899\n",
            "Held\n",
            "1071.363839918101\n",
            "Held\n",
            "1064.9228028853422\n",
            "Sold Shares\n",
            "1072.2839546360958\n",
            "Bought Shares\n",
            "Held\n",
            "1072.2839546360958\n",
            "Held\n",
            "1091.8466980989367\n",
            "Held\n",
            "1097.0430008173764\n",
            "Held\n",
            "1108.0470731660116\n",
            "Held\n",
            "1124.5531816889645\n",
            "Held\n",
            "1148.7009941647864\n",
            "Held\n",
            "1184.1584958419728\n",
            "Held\n",
            "1173.1544234933376\n",
            "Held\n",
            "1158.7879827489362\n",
            "Held\n",
            "1140.4479399033098\n",
            "Held\n",
            "1135.862870890329\n",
            "Held\n",
            "1123.6360979244791\n",
            "Sold Shares\n",
            "1135.5572540375997\n",
            "Bought Shares\n",
            "Held\n",
            "1135.5572540375997\n",
            "Held\n",
            "1136.468091739552\n",
            "Held\n",
            "1148.916708902334\n",
            "Held\n",
            "1135.8608279970117\n",
            "Sold Shares\n",
            "1125.84126580439\n",
            "Bought Shares\n",
            "Held\n",
            "1125.84126580439\n",
            "Held\n",
            "1143.4896440650245\n"
          ],
          "name": "stdout"
        }
      ]
    },
    {
      "cell_type": "code",
      "metadata": {
        "id": "y0IDlw_va5QL"
      },
      "source": [
        "df_our_values1 = DataFrame(our_values1)\n"
      ],
      "execution_count": 50,
      "outputs": []
    },
    {
      "cell_type": "code",
      "metadata": {
        "colab": {
          "base_uri": "https://localhost:8080/"
        },
        "id": "S0ix1dogb0JM",
        "outputId": "6d46bdc2-a53d-4480-b635-7c1dab5fa958"
      },
      "source": [
        "df_our_values1.mean()"
      ],
      "execution_count": 51,
      "outputs": [
        {
          "output_type": "execute_result",
          "data": {
            "text/plain": [
              "0    1042.873164\n",
              "dtype: float64"
            ]
          },
          "metadata": {
            "tags": []
          },
          "execution_count": 51
        }
      ]
    },
    {
      "cell_type": "code",
      "metadata": {
        "colab": {
          "base_uri": "https://localhost:8080/"
        },
        "id": "Hev1xEK_dfmC",
        "outputId": "f42e236e-2355-4d78-a635-8959862d91fa"
      },
      "source": [
        "df_our_values1_r =df_our_values1.pct_change()\n",
        "Sharpe_Ratio_2 = df_our_values1_r.mean()/df_our_values1_r.std()\n",
        "Sharpe_Ratio_2"
      ],
      "execution_count": 52,
      "outputs": [
        {
          "output_type": "execute_result",
          "data": {
            "text/plain": [
              "0    0.097059\n",
              "dtype: float64"
            ]
          },
          "metadata": {
            "tags": []
          },
          "execution_count": 52
        }
      ]
    },
    {
      "cell_type": "code",
      "metadata": {
        "colab": {
          "base_uri": "https://localhost:8080/",
          "height": 564
        },
        "id": "i7DxytRHDZrY",
        "outputId": "304cf7cb-796d-4e64-952f-da0f9afc36fc"
      },
      "source": [
        "\n",
        "NW1 = DataFrame(our_values1,columns=['Portfolio Worth'])\n",
        "window =len(NW1)\n",
        "Roll_Max = NW1.rolling(window, min_periods=1).max()\n",
        "Daily_Drawdown = NW1/Roll_Max - 1.0\n",
        "Max_Daily_Drawdown = Daily_Drawdown.rolling(window, min_periods=1).min()\n",
        "Daily_Drawdown.plot()\n",
        "Max_Daily_Drawdown.plot()"
      ],
      "execution_count": 53,
      "outputs": [
        {
          "output_type": "execute_result",
          "data": {
            "text/plain": [
              "<matplotlib.axes._subplots.AxesSubplot at 0x7f60af334240>"
            ]
          },
          "metadata": {
            "tags": []
          },
          "execution_count": 53
        },
        {
          "output_type": "display_data",
          "data": {
            "image/png": "[encoded data removed]",
            "text/plain": [
              "<Figure size 432x288 with 1 Axes>"
            ]
          },
          "metadata": {
            "tags": []
          }
        },
        {
          "output_type": "display_data",
          "data": {
            "image/png": "[encoded data removed]",
            "text/plain": [
              "<Figure size 432x288 with 1 Axes>"
            ]
          },
          "metadata": {
            "tags": []
          }
        }
      ]
    },
    {
      "cell_type": "code",
      "metadata": {
        "colab": {
          "base_uri": "https://localhost:8080/",
          "height": 357
        },
        "id": "76LUdAy63_C5",
        "outputId": "2a249c8d-e1b9-4921-d61f-30a01939bcf1"
      },
      "source": [
        "new_df.head()"
      ],
      "execution_count": 54,
      "outputs": [
        {
          "output_type": "execute_result",
          "data": {
            "text/html": [
              "<div>\n",
              "<style scoped>\n",
              "    .dataframe tbody tr th:only-of-type {\n",
              "        vertical-align: middle;\n",
              "    }\n",
              "\n",
              "    .dataframe tbody tr th {\n",
              "        vertical-align: top;\n",
              "    }\n",
              "\n",
              "    .dataframe thead th {\n",
              "        text-align: right;\n",
              "    }\n",
              "</style>\n",
              "<table border=\"1\" class=\"dataframe\">\n",
              "  <thead>\n",
              "    <tr style=\"text-align: right;\">\n",
              "      <th></th>\n",
              "      <th>High</th>\n",
              "      <th>Low</th>\n",
              "      <th>Open</th>\n",
              "      <th>Close</th>\n",
              "      <th>Volume</th>\n",
              "      <th>Adj Close</th>\n",
              "      <th>SMA_5</th>\n",
              "      <th>STD_5</th>\n",
              "      <th>Upper_5</th>\n",
              "      <th>Lower_5</th>\n",
              "      <th>SMA_10</th>\n",
              "      <th>Signal_1</th>\n",
              "      <th>Signal_2</th>\n",
              "    </tr>\n",
              "    <tr>\n",
              "      <th>Date</th>\n",
              "      <th></th>\n",
              "      <th></th>\n",
              "      <th></th>\n",
              "      <th></th>\n",
              "      <th></th>\n",
              "      <th></th>\n",
              "      <th></th>\n",
              "      <th></th>\n",
              "      <th></th>\n",
              "      <th></th>\n",
              "      <th></th>\n",
              "      <th></th>\n",
              "      <th></th>\n",
              "    </tr>\n",
              "  </thead>\n",
              "  <tbody>\n",
              "    <tr>\n",
              "      <th>2019-01-15</th>\n",
              "      <td>30.600000</td>\n",
              "      <td>30.23</td>\n",
              "      <td>30.520000</td>\n",
              "      <td>30.600000</td>\n",
              "      <td>26735400.0</td>\n",
              "      <td>27.392029</td>\n",
              "      <td>30.518</td>\n",
              "      <td>0.287089</td>\n",
              "      <td>30.876862</td>\n",
              "      <td>30.159139</td>\n",
              "      <td>30.422</td>\n",
              "      <td>1</td>\n",
              "      <td>0.5</td>\n",
              "    </tr>\n",
              "    <tr>\n",
              "      <th>2019-01-16</th>\n",
              "      <td>30.750000</td>\n",
              "      <td>30.35</td>\n",
              "      <td>30.530001</td>\n",
              "      <td>30.559999</td>\n",
              "      <td>24494400.0</td>\n",
              "      <td>27.356222</td>\n",
              "      <td>30.610</td>\n",
              "      <td>0.169116</td>\n",
              "      <td>30.821395</td>\n",
              "      <td>30.398605</td>\n",
              "      <td>30.524</td>\n",
              "      <td>1</td>\n",
              "      <td>0.5</td>\n",
              "    </tr>\n",
              "    <tr>\n",
              "      <th>2019-01-17</th>\n",
              "      <td>30.750000</td>\n",
              "      <td>30.41</td>\n",
              "      <td>30.549999</td>\n",
              "      <td>30.639999</td>\n",
              "      <td>26267000.0</td>\n",
              "      <td>27.427834</td>\n",
              "      <td>30.658</td>\n",
              "      <td>0.122148</td>\n",
              "      <td>30.810685</td>\n",
              "      <td>30.505315</td>\n",
              "      <td>30.630</td>\n",
              "      <td>1</td>\n",
              "      <td>0.5</td>\n",
              "    </tr>\n",
              "    <tr>\n",
              "      <th>2019-01-18</th>\n",
              "      <td>31.030001</td>\n",
              "      <td>30.52</td>\n",
              "      <td>30.820000</td>\n",
              "      <td>30.959999</td>\n",
              "      <td>43249100.0</td>\n",
              "      <td>27.714287</td>\n",
              "      <td>30.676</td>\n",
              "      <td>0.161493</td>\n",
              "      <td>30.877866</td>\n",
              "      <td>30.474134</td>\n",
              "      <td>30.692</td>\n",
              "      <td>0</td>\n",
              "      <td>0.0</td>\n",
              "    </tr>\n",
              "    <tr>\n",
              "      <th>2019-01-22</th>\n",
              "      <td>30.990000</td>\n",
              "      <td>30.42</td>\n",
              "      <td>30.920000</td>\n",
              "      <td>30.580000</td>\n",
              "      <td>37658500.0</td>\n",
              "      <td>27.374126</td>\n",
              "      <td>30.668</td>\n",
              "      <td>0.165891</td>\n",
              "      <td>30.875364</td>\n",
              "      <td>30.460636</td>\n",
              "      <td>30.661</td>\n",
              "      <td>1</td>\n",
              "      <td>0.5</td>\n",
              "    </tr>\n",
              "  </tbody>\n",
              "</table>\n",
              "</div>"
            ],
            "text/plain": [
              "                 High    Low       Open      Close      Volume  Adj Close   SMA_5     STD_5    Upper_5    Lower_5  SMA_10  Signal_1  Signal_2\n",
              "Date                                                                                                                                         \n",
              "2019-01-15  30.600000  30.23  30.520000  30.600000  26735400.0  27.392029  30.518  0.287089  30.876862  30.159139  30.422         1       0.5\n",
              "2019-01-16  30.750000  30.35  30.530001  30.559999  24494400.0  27.356222  30.610  0.169116  30.821395  30.398605  30.524         1       0.5\n",
              "2019-01-17  30.750000  30.41  30.549999  30.639999  26267000.0  27.427834  30.658  0.122148  30.810685  30.505315  30.630         1       0.5\n",
              "2019-01-18  31.030001  30.52  30.820000  30.959999  43249100.0  27.714287  30.676  0.161493  30.877866  30.474134  30.692         0       0.0\n",
              "2019-01-22  30.990000  30.42  30.920000  30.580000  37658500.0  27.374126  30.668  0.165891  30.875364  30.460636  30.661         1       0.5"
            ]
          },
          "metadata": {
            "tags": []
          },
          "execution_count": 54
        }
      ]
    },
    {
      "cell_type": "code",
      "metadata": {
        "colab": {
          "base_uri": "https://localhost:8080/"
        },
        "id": "fhNq5OxC8ztr",
        "outputId": "8c094440-b4a6-49ea-dc54-2da310e2ba74"
      },
      "source": [
        "current_shares = 0\n",
        "our_values2 = []\n",
        "current_value = 1000\n",
        "can_buy = 1 \n",
        "#0 means cannot buy, 1 means can buy\n",
        "can_sell = 0\n",
        "#0 means cannot sell, 1 means can sell\n",
        "\n",
        "for index,row in new_df.iloc[:189,:].iterrows():\n",
        "\n",
        "  if can_buy == 0:\n",
        "    print(\"Held\")\n",
        "    print(current_value)\n",
        "    current_value = row['Close']*current_shares\n",
        "    our_values2.append(current_value)\n",
        "    if can_sell ==0:\n",
        "      print(\"Did nothing\")\n",
        "\n",
        "  if row['Signal_2'] == 0 and can_buy==1:\n",
        "    can_buy = 0\n",
        "    can_sell = 1\n",
        "    current_shares = current_value/row['Open']\n",
        "    print(\"Bought Shares\")\n",
        "\n",
        "  if row['Signal_2'] == 1 and can_sell ==1:\n",
        "    can_sell = 0\n",
        "    can_buy = 1\n",
        "    current_value = row['Close']*current_shares\n",
        "    print(\"Sold Shares\")\n",
        "    print(current_value)\n",
        "    our_values2.append(current_value)"
      ],
      "execution_count": 55,
      "outputs": [
        {
          "output_type": "stream",
          "text": [
            "Bought Shares\n",
            "Held\n",
            "1000\n",
            "Held\n",
            "992.2128561487797\n",
            "Held\n",
            "1002.2712425540996\n",
            "Held\n",
            "992.8618002747276\n",
            "Held\n",
            "994.8085707658531\n",
            "Held\n",
            "995.1330428288271\n",
            "Held\n",
            "996.106459017749\n",
            "Sold Shares\n",
            "952.952664829704\n",
            "Bought Shares\n",
            "Held\n",
            "952.952664829704\n",
            "Held\n",
            "960.3623564202732\n",
            "Held\n",
            "961.3288619767064\n",
            "Held\n",
            "959.7180808300129\n",
            "Held\n",
            "981.6249870829093\n",
            "Held\n",
            "986.7795604891628\n",
            "Held\n",
            "993.8671450082828\n",
            "Held\n",
            "993.2228079706606\n",
            "Held\n",
            "1003.5319547831676\n",
            "Held\n",
            "1002.8876177455454\n",
            "Held\n",
            "1005.7870729674833\n",
            "Held\n",
            "1000.6324995612298\n",
            "Held\n",
            "1002.5655106740963\n",
            "Sold Shares\n",
            "992.9006394518495\n",
            "Bought Shares\n",
            "Held\n",
            "992.9006394518495\n",
            "Held\n",
            "1014.4278258006331\n",
            "Held\n",
            "1002.8363076529284\n",
            "Held\n",
            "1002.8363076529284\n",
            "Held\n",
            "1015.7526068283913\n",
            "Held\n",
            "1020.0580188305336\n",
            "Held\n",
            "1016.083802085331\n",
            "Held\n",
            "1010.4536090554304\n",
            "Held\n",
            "1028.6689060038543\n",
            "Held\n",
            "1029.0001012607938\n",
            "Held\n",
            "1019.0644962287511\n",
            "Held\n",
            "1039.5980968067158\n",
            "Held\n",
            "1039.9292920636553\n",
            "Held\n",
            "1027.0129928881925\n",
            "Held\n",
            "1038.6045742049332\n",
            "Held\n",
            "1058.1446521811156\n",
            "Held\n",
            "1047.5465934661572\n",
            "Held\n",
            "1055.495153294635\n",
            "Held\n",
            "1059.138174782898\n",
            "Held\n",
            "1071.3920834444818\n",
            "Held\n",
            "1072.71686447224\n",
            "Held\n",
            "1051.520873380396\n",
            "Held\n",
            "1055.8262853825383\n",
            "Held\n",
            "1066.4243440974965\n",
            "Held\n",
            "1066.4243440974965\n",
            "Held\n",
            "1060.4629558106565\n",
            "Held\n",
            "1068.0802572131583\n",
            "Sold Shares\n",
            "1058.1446521811156\n",
            "Bought Shares\n",
            "Held\n",
            "1058.1446521811156\n",
            "Held\n",
            "1077.1016142963044\n",
            "Held\n",
            "1089.8545263356414\n",
            "Held\n",
            "1096.0585764114933\n",
            "Held\n",
            "1109.5007835207703\n",
            "Held\n",
            "1117.083620959698\n",
            "Held\n",
            "1112.6028414292286\n",
            "Held\n",
            "1107.7774472343222\n",
            "Held\n",
            "1112.2582267647915\n",
            "Sold Shares\n",
            "1100.5393559419624\n",
            "Bought Shares\n",
            "Held\n",
            "1100.5393559419624\n",
            "Held\n",
            "1092.3290012806638\n",
            "Held\n",
            "1098.486832527255\n",
            "Held\n",
            "1100.8815301785698\n",
            "Held\n",
            "1104.644663773846\n",
            "Held\n",
            "1106.6971871885535\n",
            "Held\n",
            "1104.9867075092193\n",
            "Held\n",
            "1109.7761028118491\n",
            "Held\n",
            "1108.7498411044953\n",
            "Held\n",
            "1113.1971926717522\n",
            "Held\n",
            "1110.1182770484565\n",
            "Held\n",
            "1114.5656286157134\n",
            "Held\n",
            "1113.5392364071254\n",
            "Held\n",
            "1112.8550184351448\n",
            "Held\n",
            "1128.2495965516225\n",
            "Held\n",
            "1146.3809160547885\n",
            "Held\n",
            "1143.6441746681003\n",
            "Held\n",
            "1157.670316840617\n",
            "Held\n",
            "1162.4597121432469\n",
            "Held\n",
            "1173.406938692468\n",
            "Held\n",
            "1171.6964590131336\n",
            "Sold Shares\n",
            "1147.4073082633765\n",
            "Bought Shares\n",
            "Held\n",
            "1147.4073082633765\n",
            "Held\n",
            "1166.883835359464\n",
            "Held\n",
            "1173.3759676095665\n",
            "Held\n",
            "1167.908874571117\n",
            "Held\n",
            "1163.4668207443208\n",
            "Held\n",
            "1165.858665802031\n",
            "Held\n",
            "1167.5671079367128\n",
            "Sold Shares\n",
            "1144.3320602826375\n",
            "Bought Shares\n",
            "Held\n",
            "1144.3320602826375\n",
            "Held\n",
            "1154.0213258344406\n",
            "Held\n",
            "1152.0166106485167\n",
            "Held\n",
            "1164.7128852524847\n",
            "Sold Shares\n",
            "1138.9862805736154\n",
            "Bought Shares\n",
            "Held\n",
            "1138.9862805736154\n",
            "Held\n",
            "1138.010325141133\n",
            "Held\n",
            "1143.866305944428\n",
            "Held\n",
            "1151.34892050326\n",
            "Sold Shares\n",
            "1132.8050226608934\n",
            "Bought Shares\n",
            "Held\n",
            "1132.8050226608934\n",
            "Held\n",
            "1137.6446170118004\n",
            "Held\n",
            "1141.5164401874783\n",
            "Held\n",
            "1152.4863596936455\n",
            "Held\n",
            "1157.9712579071654\n",
            "Held\n",
            "1169.5864812759455\n",
            "Held\n",
            "1187.0093163291156\n",
            "Held\n",
            "1212.4982650462578\n",
            "Held\n",
            "1249.9250275239228\n",
            "Held\n",
            "1238.3098041551427\n",
            "Held\n",
            "1223.1454710815547\n",
            "Held\n",
            "1203.7868475196726\n",
            "Held\n",
            "1198.9471300896387\n",
            "Held\n",
            "1186.0412989956326\n",
            "Held\n",
            "1198.6245396978957\n",
            "Held\n",
            "1223.1454710815547\n",
            "Held\n",
            "1213.1434458297438\n",
            "Held\n",
            "1206.0453494992546\n",
            "Held\n",
            "1206.0453494992546\n",
            "Held\n",
            "1206.0453494992546\n",
            "Held\n",
            "1207.6585476162236\n",
            "Held\n",
            "1220.8869691019727\n",
            "Held\n",
            "1207.0132437536106\n",
            "Sold Shares\n",
            "1196.3660377183137\n"
          ],
          "name": "stdout"
        }
      ]
    },
    {
      "cell_type": "code",
      "metadata": {
        "id": "hgjN4IoycM94"
      },
      "source": [
        "df_our_values2 = DataFrame(our_values2)"
      ],
      "execution_count": 56,
      "outputs": []
    },
    {
      "cell_type": "code",
      "metadata": {
        "colab": {
          "base_uri": "https://localhost:8080/"
        },
        "id": "sz2Q403DcVo8",
        "outputId": "c983c1aa-9e7c-4412-9c75-a83afbcf7ec3"
      },
      "source": [
        "df_our_values2.mean()"
      ],
      "execution_count": 57,
      "outputs": [
        {
          "output_type": "execute_result",
          "data": {
            "text/plain": [
              "0    1097.944816\n",
              "dtype: float64"
            ]
          },
          "metadata": {
            "tags": []
          },
          "execution_count": 57
        }
      ]
    },
    {
      "cell_type": "code",
      "metadata": {
        "colab": {
          "base_uri": "https://localhost:8080/"
        },
        "id": "Mo4eWruHc37q",
        "outputId": "1d7fe622-9eab-40d1-d8eb-0abc8d1b555e"
      },
      "source": [
        "\n",
        "df_our_values2_r =df_our_values2.pct_change()\n",
        "df_our_values2_r.mean()/df_our_values2_r.std()\n"
      ],
      "execution_count": 58,
      "outputs": [
        {
          "output_type": "execute_result",
          "data": {
            "text/plain": [
              "0    0.150766\n",
              "dtype: float64"
            ]
          },
          "metadata": {
            "tags": []
          },
          "execution_count": 58
        }
      ]
    },
    {
      "cell_type": "code",
      "metadata": {
        "colab": {
          "base_uri": "https://localhost:8080/",
          "height": 564
        },
        "id": "HIdnHcQMDrxA",
        "outputId": "b6ebe926-5233-426a-f973-269f5e558557"
      },
      "source": [
        "NW2 = DataFrame(our_values2,columns=['Portfolio Worth'])\n",
        "window =len(NW2)\n",
        "Roll_Max = NW2.rolling(window, min_periods=1).max()\n",
        "Daily_Drawdown = NW2/Roll_Max - 1.0\n",
        "Max_Daily_Drawdown = Daily_Drawdown.rolling(window, min_periods=1).min()\n",
        "Daily_Drawdown.plot()\n",
        "Max_Daily_Drawdown.plot()"
      ],
      "execution_count": 59,
      "outputs": [
        {
          "output_type": "execute_result",
          "data": {
            "text/plain": [
              "<matplotlib.axes._subplots.AxesSubplot at 0x7f60af0e0240>"
            ]
          },
          "metadata": {
            "tags": []
          },
          "execution_count": 59
        },
        {
          "output_type": "display_data",
          "data": {
            "image/png": "[encoded data removed]",
            "text/plain": [
              "<Figure size 432x288 with 1 Axes>"
            ]
          },
          "metadata": {
            "tags": []
          }
        },
        {
          "output_type": "display_data",
          "data": {
            "image/png": "[encoded data removed]",
            "text/plain": [
              "<Figure size 432x288 with 1 Axes>"
            ]
          },
          "metadata": {
            "tags": []
          }
        }
      ]
    },
    {
      "cell_type": "code",
      "metadata": {
        "colab": {
          "base_uri": "https://localhost:8080/"
        },
        "id": "uHy1JtkyEuel",
        "outputId": "aae3b66f-83bf-46b3-8020-c9ffec2ea8b9"
      },
      "source": [
        "new_df['Signal_3']= new_df['Signal_1'] + new_df['Signal_2']"
      ],
      "execution_count": 60,
      "outputs": [
        {
          "output_type": "stream",
          "text": [
            "/usr/local/lib/python3.6/dist-packages/ipykernel_launcher.py:1: SettingWithCopyWarning: \n",
            "A value is trying to be set on a copy of a slice from a DataFrame.\n",
            "Try using .loc[row_indexer,col_indexer] = value instead\n",
            "\n",
            "See the caveats in the documentation: https://pandas.pydata.org/pandas-docs/stable/user_guide/indexing.html#returning-a-view-versus-a-copy\n",
            "  \"\"\"Entry point for launching an IPython kernel.\n"
          ],
          "name": "stderr"
        }
      ]
    },
    {
      "cell_type": "code",
      "metadata": {
        "colab": {
          "base_uri": "https://localhost:8080/"
        },
        "id": "ZID5uWoc-o0y",
        "outputId": "0935585e-e436-4d86-bfa9-a8fe721cfa2f"
      },
      "source": [
        "current_shares = 0\n",
        "our_values3 = []\n",
        "current_value = 1000\n",
        "can_buy = 1 \n",
        "#0 means cannot buy, 1 means can buy\n",
        "can_sell = 0\n",
        "#0 means cannot sell, 1 means can sell\n",
        "\n",
        "for index,row in new_df.iloc[:189,:].iterrows():\n",
        "\n",
        "  if can_buy == 0:\n",
        "    print(\"Held\")\n",
        "    print(current_value)\n",
        "    our_values3.append(current_value)\n",
        "    current_value = row['Close']*current_shares\n",
        "    if can_sell ==0:\n",
        "      print(\"Did nothing\")\n",
        "\n",
        "  if row['Signal_3'] < 1 and can_buy==1:\n",
        "    can_buy = 0\n",
        "    can_sell = 1\n",
        "    current_shares = current_value/row['Open']\n",
        "    print(\"Bought Shares\")\n",
        "\n",
        "  if row['Signal_3'] >= 1 and can_sell ==1:\n",
        "    can_sell = 0\n",
        "    can_buy = 1\n",
        "    current_value = row['Close']*current_shares\n",
        "    print(\"Sold Shares\")\n",
        "    print(current_value)\n",
        "    our_values3.append(current_value)\n"
      ],
      "execution_count": 61,
      "outputs": [
        {
          "output_type": "stream",
          "text": [
            "Bought Shares\n",
            "Held\n",
            "1000\n",
            "Sold Shares\n",
            "992.2128561487797\n",
            "Bought Shares\n",
            "Held\n",
            "992.2128561487797\n",
            "Held\n",
            "1009.0300232021489\n",
            "Held\n",
            "995.9126534292892\n",
            "Held\n",
            "996.5852913555991\n",
            "Held\n",
            "994.2308982325117\n",
            "Held\n",
            "990.5311651044033\n",
            "Held\n",
            "993.8945471931561\n",
            "Held\n",
            "999.2760355180421\n",
            "Held\n",
            "1002.6394817591962\n",
            "Held\n",
            "1003.6485348772628\n",
            "Sold Shares\n",
            "1001.9668438328863\n",
            "Bought Shares\n",
            "Held\n",
            "1001.9668438328863\n",
            "Held\n",
            "994.9577156593876\n",
            "Held\n",
            "998.6291667817391\n",
            "Held\n",
            "999.9641994056611\n",
            "Held\n",
            "1008.6421342742859\n",
            "Held\n",
            "1022.3265528891842\n",
            "Held\n",
            "1010.6447787015111\n",
            "Sold Shares\n",
            "1010.6447787015111\n",
            "Bought Shares\n",
            "Held\n",
            "1010.6447787015111\n",
            "Sold Shares\n",
            "1011.8998770427115\n",
            "Bought Shares\n",
            "Held\n",
            "1011.8998770427115\n",
            "Held\n",
            "1016.0171872680626\n",
            "Sold Shares\n",
            "1016.6505080873734\n",
            "Bought Shares\n",
            "Held\n",
            "1016.6505080873734\n",
            "Held\n",
            "1030.3304084017977\n",
            "Held\n",
            "1032.9996556914446\n",
            "Held\n",
            "1027.327560885836\n",
            "Held\n",
            "1021.6554024403521\n",
            "Held\n",
            "1024.324649729999\n",
            "Held\n",
            "1020.6544108417813\n",
            "Held\n",
            "1018.652491284515\n",
            "Sold Shares\n",
            "1010.9783496418896\n",
            "Bought Shares\n",
            "Held\n",
            "1010.9783496418896\n",
            "Held\n",
            "1022.6679037443424\n",
            "Held\n",
            "1017.6580493411877\n",
            "Held\n",
            "1038.365264925785\n",
            "Sold Shares\n",
            "1043.7090501664013\n",
            "Bought Shares\n",
            "Held\n",
            "1043.7090501664013\n",
            "Sold Shares\n",
            "998.6427906365661\n",
            "Bought Shares\n",
            "Held\n",
            "998.6427906365661\n",
            "Held\n",
            "1023.3488051684429\n",
            "Held\n",
            "1029.850410783534\n",
            "Held\n",
            "1043.5036709681935\n",
            "Sold Shares\n",
            "1056.1818577211368\n",
            "Bought Shares\n",
            "Held\n",
            "1056.1818577211368\n",
            "Held\n",
            "1061.851796988427\n",
            "Held\n",
            "1057.756934309863\n",
            "Sold Shares\n",
            "1047.6769488202015\n",
            "Bought Shares\n",
            "Held\n",
            "1047.6769488202015\n",
            "Held\n",
            "1083.1969481943108\n",
            "Held\n",
            "1101.7716142210352\n",
            "Held\n",
            "1112.8512504747057\n",
            "Sold Shares\n",
            "1119.042764380242\n",
            "Bought Shares\n",
            "Held\n",
            "1119.042764380242\n",
            "Held\n",
            "1150.3494006399312\n",
            "Held\n",
            "1150.3494006399312\n",
            "Sold Shares\n",
            "1148.3510641612584\n",
            "Bought Shares\n",
            "Held\n",
            "1148.3510641612584\n",
            "Held\n",
            "1164.2498929713909\n",
            "Held\n",
            "1167.8932429574052\n",
            "Sold Shares\n",
            "1171.868013335766\n",
            "Bought Shares\n",
            "Held\n",
            "1171.868013335766\n",
            "Held\n",
            "1199.7169233390282\n",
            "Held\n",
            "1189.906480308363\n",
            "Held\n",
            "1182.9443433487677\n",
            "Held\n",
            "1182.9443433487677\n",
            "Sold Shares\n",
            "1182.9443433487677\n",
            "Bought Shares\n",
            "Held\n",
            "1182.9443433487677\n",
            "Held\n",
            "1199.2497387426886\n",
            "Held\n",
            "1204.0455078381517\n",
            "Held\n",
            "1198.2906337081856\n",
            "Sold Shares\n",
            "1184.5428923934307\n"
          ],
          "name": "stdout"
        }
      ]
    },
    {
      "cell_type": "code",
      "metadata": {
        "colab": {
          "base_uri": "https://localhost:8080/",
          "height": 564
        },
        "id": "Dl54Uc2aAobj",
        "outputId": "5032e4fd-c1b9-46bc-ce4d-d5c5addc71fa"
      },
      "source": [
        "NW3 = DataFrame(our_values3,columns=['Portfolio Worth'])\n",
        "window =len(NW3)\n",
        "Roll_Max = NW3.rolling(window, min_periods=1).max()\n",
        "Daily_Drawdown = NW3/Roll_Max - 1.0\n",
        "Max_Daily_Drawdown = Daily_Drawdown.rolling(window, min_periods=1).min()\n",
        "Daily_Drawdown.plot()\n",
        "Max_Daily_Drawdown.plot()"
      ],
      "execution_count": 62,
      "outputs": [
        {
          "output_type": "execute_result",
          "data": {
            "text/plain": [
              "<matplotlib.axes._subplots.AxesSubplot at 0x7f60af0330b8>"
            ]
          },
          "metadata": {
            "tags": []
          },
          "execution_count": 62
        },
        {
          "output_type": "display_data",
          "data": {
            "image/png": "[encoded data removed]",
            "text/plain": [
              "<Figure size 432x288 with 1 Axes>"
            ]
          },
          "metadata": {
            "tags": []
          }
        },
        {
          "output_type": "display_data",
          "data": {
            "image/png": "[encoded data removed]",
            "text/plain": [
              "<Figure size 432x288 with 1 Axes>"
            ]
          },
          "metadata": {
            "tags": []
          }
        }
      ]
    },
    {
      "cell_type": "code",
      "metadata": {
        "id": "T2P4hX5xClmR"
      },
      "source": [
        "df_our_values3 = DataFrame(our_values3)"
      ],
      "execution_count": 63,
      "outputs": []
    },
    {
      "cell_type": "code",
      "metadata": {
        "colab": {
          "base_uri": "https://localhost:8080/"
        },
        "id": "G6r4w2rveeb6",
        "outputId": "0a0deaf3-bf53-4f71-890d-fdb0d7bb4332"
      },
      "source": [
        "df_our_values3.mean()"
      ],
      "execution_count": 64,
      "outputs": [
        {
          "output_type": "execute_result",
          "data": {
            "text/plain": [
              "0    1061.409606\n",
              "dtype: float64"
            ]
          },
          "metadata": {
            "tags": []
          },
          "execution_count": 64
        }
      ]
    },
    {
      "cell_type": "code",
      "metadata": {
        "colab": {
          "base_uri": "https://localhost:8080/"
        },
        "id": "yrRihpBNeZx_",
        "outputId": "0fe0057c-c20a-4316-e4b4-f97af1c3cf0f"
      },
      "source": [
        "df_our_values3_r =df_our_values3.pct_change()\n",
        "df_our_values3_r.mean()/df_our_values3_r.std()\n"
      ],
      "execution_count": 65,
      "outputs": [
        {
          "output_type": "execute_result",
          "data": {
            "text/plain": [
              "0    0.221921\n",
              "dtype: float64"
            ]
          },
          "metadata": {
            "tags": []
          },
          "execution_count": 65
        }
      ]
    },
    {
      "cell_type": "code",
      "metadata": {
        "id": "Dv3KiueReZ6g"
      },
      "source": [
        ""
      ],
      "execution_count": 65,
      "outputs": []
    },
    {
      "cell_type": "code",
      "metadata": {
        "colab": {
          "base_uri": "https://localhost:8080/",
          "height": 235
        },
        "id": "R7WW2-7FGF29",
        "outputId": "0350b682-4c9e-48a5-a1ee-f7b236a7d864"
      },
      "source": [
        "from mlxtend.frequent_patterns import apriori\n",
        "from mlxtend.frequent_patterns import association_rules\n",
        "df = new_df.iloc[:,11:]\n",
        "df.head()"
      ],
      "execution_count": 66,
      "outputs": [
        {
          "output_type": "execute_result",
          "data": {
            "text/html": [
              "<div>\n",
              "<style scoped>\n",
              "    .dataframe tbody tr th:only-of-type {\n",
              "        vertical-align: middle;\n",
              "    }\n",
              "\n",
              "    .dataframe tbody tr th {\n",
              "        vertical-align: top;\n",
              "    }\n",
              "\n",
              "    .dataframe thead th {\n",
              "        text-align: right;\n",
              "    }\n",
              "</style>\n",
              "<table border=\"1\" class=\"dataframe\">\n",
              "  <thead>\n",
              "    <tr style=\"text-align: right;\">\n",
              "      <th></th>\n",
              "      <th>Signal_1</th>\n",
              "      <th>Signal_2</th>\n",
              "      <th>Signal_3</th>\n",
              "    </tr>\n",
              "    <tr>\n",
              "      <th>Date</th>\n",
              "      <th></th>\n",
              "      <th></th>\n",
              "      <th></th>\n",
              "    </tr>\n",
              "  </thead>\n",
              "  <tbody>\n",
              "    <tr>\n",
              "      <th>2019-01-15</th>\n",
              "      <td>1</td>\n",
              "      <td>0.5</td>\n",
              "      <td>1.5</td>\n",
              "    </tr>\n",
              "    <tr>\n",
              "      <th>2019-01-16</th>\n",
              "      <td>1</td>\n",
              "      <td>0.5</td>\n",
              "      <td>1.5</td>\n",
              "    </tr>\n",
              "    <tr>\n",
              "      <th>2019-01-17</th>\n",
              "      <td>1</td>\n",
              "      <td>0.5</td>\n",
              "      <td>1.5</td>\n",
              "    </tr>\n",
              "    <tr>\n",
              "      <th>2019-01-18</th>\n",
              "      <td>0</td>\n",
              "      <td>0.0</td>\n",
              "      <td>0.0</td>\n",
              "    </tr>\n",
              "    <tr>\n",
              "      <th>2019-01-22</th>\n",
              "      <td>1</td>\n",
              "      <td>0.5</td>\n",
              "      <td>1.5</td>\n",
              "    </tr>\n",
              "  </tbody>\n",
              "</table>\n",
              "</div>"
            ],
            "text/plain": [
              "            Signal_1  Signal_2  Signal_3\n",
              "Date                                    \n",
              "2019-01-15         1       0.5       1.5\n",
              "2019-01-16         1       0.5       1.5\n",
              "2019-01-17         1       0.5       1.5\n",
              "2019-01-18         0       0.0       0.0\n",
              "2019-01-22         1       0.5       1.5"
            ]
          },
          "metadata": {
            "tags": []
          },
          "execution_count": 66
        }
      ]
    },
    {
      "cell_type": "code",
      "metadata": {
        "id": "yhq18y62G16A"
      },
      "source": [
        "def encode_units(x): \n",
        "    if x < 1:\n",
        "        return 0 \n",
        "    if x >= 1:\n",
        "        return 1\n",
        "df_a = df.applymap(encode_units)"
      ],
      "execution_count": 67,
      "outputs": []
    },
    {
      "cell_type": "code",
      "metadata": {
        "colab": {
          "base_uri": "https://localhost:8080/",
          "height": 235
        },
        "id": "ZRSz-PxxIJ6_",
        "outputId": "c21e5655-5a5d-440e-c875-7da2e201c052"
      },
      "source": [
        "df_a.head()"
      ],
      "execution_count": 68,
      "outputs": [
        {
          "output_type": "execute_result",
          "data": {
            "text/html": [
              "<div>\n",
              "<style scoped>\n",
              "    .dataframe tbody tr th:only-of-type {\n",
              "        vertical-align: middle;\n",
              "    }\n",
              "\n",
              "    .dataframe tbody tr th {\n",
              "        vertical-align: top;\n",
              "    }\n",
              "\n",
              "    .dataframe thead th {\n",
              "        text-align: right;\n",
              "    }\n",
              "</style>\n",
              "<table border=\"1\" class=\"dataframe\">\n",
              "  <thead>\n",
              "    <tr style=\"text-align: right;\">\n",
              "      <th></th>\n",
              "      <th>Signal_1</th>\n",
              "      <th>Signal_2</th>\n",
              "      <th>Signal_3</th>\n",
              "    </tr>\n",
              "    <tr>\n",
              "      <th>Date</th>\n",
              "      <th></th>\n",
              "      <th></th>\n",
              "      <th></th>\n",
              "    </tr>\n",
              "  </thead>\n",
              "  <tbody>\n",
              "    <tr>\n",
              "      <th>2019-01-15</th>\n",
              "      <td>1</td>\n",
              "      <td>0</td>\n",
              "      <td>1</td>\n",
              "    </tr>\n",
              "    <tr>\n",
              "      <th>2019-01-16</th>\n",
              "      <td>1</td>\n",
              "      <td>0</td>\n",
              "      <td>1</td>\n",
              "    </tr>\n",
              "    <tr>\n",
              "      <th>2019-01-17</th>\n",
              "      <td>1</td>\n",
              "      <td>0</td>\n",
              "      <td>1</td>\n",
              "    </tr>\n",
              "    <tr>\n",
              "      <th>2019-01-18</th>\n",
              "      <td>0</td>\n",
              "      <td>0</td>\n",
              "      <td>0</td>\n",
              "    </tr>\n",
              "    <tr>\n",
              "      <th>2019-01-22</th>\n",
              "      <td>1</td>\n",
              "      <td>0</td>\n",
              "      <td>1</td>\n",
              "    </tr>\n",
              "  </tbody>\n",
              "</table>\n",
              "</div>"
            ],
            "text/plain": [
              "            Signal_1  Signal_2  Signal_3\n",
              "Date                                    \n",
              "2019-01-15         1         0         1\n",
              "2019-01-16         1         0         1\n",
              "2019-01-17         1         0         1\n",
              "2019-01-18         0         0         0\n",
              "2019-01-22         1         0         1"
            ]
          },
          "metadata": {
            "tags": []
          },
          "execution_count": 68
        }
      ]
    },
    {
      "cell_type": "code",
      "metadata": {
        "id": "BbfGfBJ7HeHn"
      },
      "source": [
        "frequent_itemsets = apriori(df_a, min_support=0.07, use_colnames=True)"
      ],
      "execution_count": 69,
      "outputs": []
    },
    {
      "cell_type": "code",
      "metadata": {
        "id": "tH8qKtCtHl8v"
      },
      "source": [
        "rules = association_rules(frequent_itemsets, metric=\"lift\", min_threshold=1)"
      ],
      "execution_count": 70,
      "outputs": []
    },
    {
      "cell_type": "code",
      "metadata": {
        "colab": {
          "base_uri": "https://localhost:8080/",
          "height": 190
        },
        "id": "KgYVqnIEHo9o",
        "outputId": "ebfa9539-3917-4f5e-bd32-dda727f15799"
      },
      "source": [
        "rules"
      ],
      "execution_count": 71,
      "outputs": [
        {
          "output_type": "execute_result",
          "data": {
            "text/html": [
              "<div>\n",
              "<style scoped>\n",
              "    .dataframe tbody tr th:only-of-type {\n",
              "        vertical-align: middle;\n",
              "    }\n",
              "\n",
              "    .dataframe tbody tr th {\n",
              "        vertical-align: top;\n",
              "    }\n",
              "\n",
              "    .dataframe thead th {\n",
              "        text-align: right;\n",
              "    }\n",
              "</style>\n",
              "<table border=\"1\" class=\"dataframe\">\n",
              "  <thead>\n",
              "    <tr style=\"text-align: right;\">\n",
              "      <th></th>\n",
              "      <th>antecedents</th>\n",
              "      <th>consequents</th>\n",
              "      <th>antecedent support</th>\n",
              "      <th>consequent support</th>\n",
              "      <th>support</th>\n",
              "      <th>confidence</th>\n",
              "      <th>lift</th>\n",
              "      <th>leverage</th>\n",
              "      <th>conviction</th>\n",
              "    </tr>\n",
              "  </thead>\n",
              "  <tbody>\n",
              "    <tr>\n",
              "      <th>0</th>\n",
              "      <td>(Signal_1)</td>\n",
              "      <td>(Signal_3)</td>\n",
              "      <td>0.641975</td>\n",
              "      <td>0.699588</td>\n",
              "      <td>0.641975</td>\n",
              "      <td>1.000000</td>\n",
              "      <td>1.429412</td>\n",
              "      <td>0.192857</td>\n",
              "      <td>inf</td>\n",
              "    </tr>\n",
              "    <tr>\n",
              "      <th>1</th>\n",
              "      <td>(Signal_3)</td>\n",
              "      <td>(Signal_1)</td>\n",
              "      <td>0.699588</td>\n",
              "      <td>0.641975</td>\n",
              "      <td>0.641975</td>\n",
              "      <td>0.917647</td>\n",
              "      <td>1.429412</td>\n",
              "      <td>0.192857</td>\n",
              "      <td>4.347443</td>\n",
              "    </tr>\n",
              "    <tr>\n",
              "      <th>2</th>\n",
              "      <td>(Signal_3)</td>\n",
              "      <td>(Signal_2)</td>\n",
              "      <td>0.699588</td>\n",
              "      <td>0.098765</td>\n",
              "      <td>0.098765</td>\n",
              "      <td>0.141176</td>\n",
              "      <td>1.429412</td>\n",
              "      <td>0.029670</td>\n",
              "      <td>1.049383</td>\n",
              "    </tr>\n",
              "    <tr>\n",
              "      <th>3</th>\n",
              "      <td>(Signal_2)</td>\n",
              "      <td>(Signal_3)</td>\n",
              "      <td>0.098765</td>\n",
              "      <td>0.699588</td>\n",
              "      <td>0.098765</td>\n",
              "      <td>1.000000</td>\n",
              "      <td>1.429412</td>\n",
              "      <td>0.029670</td>\n",
              "      <td>inf</td>\n",
              "    </tr>\n",
              "  </tbody>\n",
              "</table>\n",
              "</div>"
            ],
            "text/plain": [
              "  antecedents consequents  antecedent support  consequent support   support  confidence      lift  leverage  conviction\n",
              "0  (Signal_1)  (Signal_3)            0.641975            0.699588  0.641975    1.000000  1.429412  0.192857         inf\n",
              "1  (Signal_3)  (Signal_1)            0.699588            0.641975  0.641975    0.917647  1.429412  0.192857    4.347443\n",
              "2  (Signal_3)  (Signal_2)            0.699588            0.098765  0.098765    0.141176  1.429412  0.029670    1.049383\n",
              "3  (Signal_2)  (Signal_3)            0.098765            0.699588  0.098765    1.000000  1.429412  0.029670         inf"
            ]
          },
          "metadata": {
            "tags": []
          },
          "execution_count": 71
        }
      ]
    },
    {
      "cell_type": "code",
      "metadata": {
        "id": "WiYOgZMxHpuK"
      },
      "source": [
        ""
      ],
      "execution_count": 71,
      "outputs": []
    }
  ]
}